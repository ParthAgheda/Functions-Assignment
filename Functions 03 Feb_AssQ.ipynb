{
 "cells": [
  {
   "cell_type": "markdown",
   "id": "172fc411-de7f-4ed9-8a28-e41f92255471",
   "metadata": {},
   "source": [
    "#### Functions (03 Feb Assignment)"
   ]
  },
  {
   "cell_type": "markdown",
   "id": "125b8c5a-c5cd-43da-ace4-6d2c56c18e8f",
   "metadata": {},
   "source": []
  },
  {
   "cell_type": "markdown",
   "id": "30542d0f-cc6c-4df2-b0fa-605707681091",
   "metadata": {},
   "source": [
    "##### Q1. Which keyword is used to create a function? Create a function to return a list of odd numbers in the range of 1 to 25."
   ]
  },
  {
   "cell_type": "markdown",
   "id": "b9e8faeb-a902-448b-a3a8-6826a7700535",
   "metadata": {},
   "source": [
    "Ans:01\n",
    "\n",
    "In most programming languages, including Python, the keyword used to create a function is \"def\". Here's an example of a Python function that returns a list of odd numbers in the range of 1 to 25:"
   ]
  },
  {
   "cell_type": "code",
   "execution_count": 1,
   "id": "d995df0a-7154-4e39-bc12-bb1f6558d17d",
   "metadata": {},
   "outputs": [],
   "source": [
    "def get_odd_numbers():\n",
    "    odd_numbers=[]\n",
    "    for i in range(1,25):\n",
    "        if i % 2 != 0:\n",
    "            odd_numbers.append(i)\n",
    "    return odd_numbers"
   ]
  },
  {
   "cell_type": "code",
   "execution_count": 2,
   "id": "2fa8d33b-c222-4bf9-94c4-8260c2d7b875",
   "metadata": {},
   "outputs": [
    {
     "name": "stdout",
     "output_type": "stream",
     "text": [
      "[1, 3, 5, 7, 9, 11, 13, 15, 17, 19, 21, 23]\n"
     ]
    }
   ],
   "source": [
    "print(get_odd_numbers())"
   ]
  },
  {
   "cell_type": "markdown",
   "id": "abb20016-f5ea-433f-a78f-41b843af72c9",
   "metadata": {},
   "source": [
    "The function get_odd_numbers() creates an empty list called odd_numbers. It then iterates through the range from 1 to 25 and checks if each number is odd using the condition num % 2 != 0. If a number is odd, it is appended to the odd_numbers list. Finally, the function returns the list of odd numbers."
   ]
  },
  {
   "cell_type": "markdown",
   "id": "621305ca-7ac8-4e92-97d0-086d59568f76",
   "metadata": {},
   "source": []
  },
  {
   "cell_type": "markdown",
   "id": "a0f4ab6f-1e60-40bf-96ce-11a632e288f1",
   "metadata": {},
   "source": [
    "##### Q2. Why *args and **kwargs is used in some functions? Create a function each for *args and **kwargs to demonstrate their use."
   ]
  },
  {
   "cell_type": "markdown",
   "id": "ff2244c0-bbbc-491d-9749-8810b62d0587",
   "metadata": {},
   "source": [
    "Ans:02\n",
    "\n",
    "In Python, *args and **kwargs are used to handle variable-length arguments in functions. Here's an explanation of each:\n",
    "\n",
    "1. *args: This syntax allows a function to accept a variable number of non-keyword arguments. The *args parameter collects any additional positional arguments passed to the function into a tuple. The asterisk (*) before \"args\" unpacks the arguments.\n",
    "\n",
    "Here's an example of a function that uses *args to calculate the sum of multiple numbers:"
   ]
  },
  {
   "cell_type": "code",
   "execution_count": 3,
   "id": "93893f4b-5196-4cae-b75d-cb667ebde4ce",
   "metadata": {},
   "outputs": [],
   "source": [
    "def sum_numbers(*args):\n",
    "    total = 0\n",
    "    for num in args:\n",
    "        total = total + num\n",
    "    return total"
   ]
  },
  {
   "cell_type": "code",
   "execution_count": 4,
   "id": "9d01e3c5-cdbb-4833-b9d0-e121a3f4bc11",
   "metadata": {},
   "outputs": [
    {
     "name": "stdout",
     "output_type": "stream",
     "text": [
      "6\n"
     ]
    }
   ],
   "source": [
    "print(sum_numbers(1,2,3))"
   ]
  },
  {
   "cell_type": "code",
   "execution_count": 5,
   "id": "76d54cbc-8a88-41e8-8818-d7125f8ef83a",
   "metadata": {},
   "outputs": [
    {
     "name": "stdout",
     "output_type": "stream",
     "text": [
      "30\n"
     ]
    }
   ],
   "source": [
    "print(sum_numbers(4,5,6,7,8))"
   ]
  },
  {
   "cell_type": "markdown",
   "id": "8a8de6f0-66ca-4c4c-82ee-f952622d7e41",
   "metadata": {},
   "source": [
    "In this example, *args collects the numbers passed to the function, and the loop sums them up to calculate the total."
   ]
  },
  {
   "cell_type": "markdown",
   "id": "efd4973d-e8b9-4fa4-8b92-66f335c264db",
   "metadata": {},
   "source": [
    "2. **kwargs: This syntax allows a function to accept a variable number of keyword arguments. The **kwargs parameter collects any additional keyword arguments passed to the function into a dictionary. The double asterisks (**) before \"kwargs\" unpacks the arguments.\n",
    "\n",
    "Here's an example of a function that uses **kwargs to display key-value pairs of multiple arguments:"
   ]
  },
  {
   "cell_type": "code",
   "execution_count": 6,
   "id": "490df45e-a9f0-4b14-8c6c-9d39eb1d4565",
   "metadata": {},
   "outputs": [],
   "source": [
    "def display_info(**kwargs):\n",
    "    for key, value in kwargs.items():\n",
    "        print(key, ':', str(value))"
   ]
  },
  {
   "cell_type": "code",
   "execution_count": 7,
   "id": "8cf8e2e9-45ce-47e1-9641-7c73da90c5b4",
   "metadata": {},
   "outputs": [
    {
     "name": "stdout",
     "output_type": "stream",
     "text": [
      "name : Alice\n",
      "age : 25\n"
     ]
    }
   ],
   "source": [
    "display_info(name='Alice', age=25)"
   ]
  },
  {
   "cell_type": "code",
   "execution_count": 8,
   "id": "1df9fb8e-e0d1-4b7e-bb7a-c46925876e7b",
   "metadata": {},
   "outputs": [
    {
     "name": "stdout",
     "output_type": "stream",
     "text": [
      "country : USA\n",
      "language : English\n"
     ]
    }
   ],
   "source": [
    "display_info(country='USA', language='English')"
   ]
  },
  {
   "cell_type": "markdown",
   "id": "19abc093-b907-48b3-b1ef-7c51831319d6",
   "metadata": {},
   "source": [
    "In this example, **kwargs collects the keyword arguments passed to the function. The function then iterates over the dictionary and prints each key-value pair."
   ]
  },
  {
   "cell_type": "markdown",
   "id": "016e048e-93b2-445e-a809-969e4997f91d",
   "metadata": {},
   "source": [
    "* In summary, *args allows a function to accept a variable number of non-keyword arguments, while **kwargs allows a function to accept a variable number of keyword arguments. They provide flexibility when you're not sure how many arguments will be passed to a function."
   ]
  },
  {
   "cell_type": "markdown",
   "id": "df77499d-c075-4a9a-a3b5-53023d9240d5",
   "metadata": {},
   "source": []
  },
  {
   "cell_type": "markdown",
   "id": "88386748-e11f-4a6f-874b-265ccbc6855a",
   "metadata": {},
   "source": [
    "##### Q3. What is an iterator in python? Name the method used to initialise the iterator object and the method used for iteration. Use these methods to print the first five elements of the given list [2, 4, 6, 8, 10, 12, 14, 16,\n",
    "18, 20]."
   ]
  },
  {
   "cell_type": "markdown",
   "id": "277ab55a-f3db-455c-bc82-4c888fba37b3",
   "metadata": {},
   "source": [
    "Ans:03\n",
    "\n",
    "In Python, an iterator is an object that allows iteration over a sequence of elements. It provides a way to access the elements of a container one by one without needing to know the underlying implementation. Iterators are used to traverse data structures like lists, tuples, dictionaries, and more.\n",
    "\n",
    "- To initialize an iterator object in Python, you can use the iter() function. The iter() function takes a sequence or a collection as an argument and returns an iterator object. This iterator object can be used to iterate over the elements of the sequence.\n",
    "\n",
    "- To iterate over the elements using an iterator, you can use the next() function. The next() function retrieves the next element from the iterator. If there are no more elements, it raises a StopIteration exception.\n",
    "\n",
    "Here's an example of using an iterator to print the first five elements of the given list [2, 4, 6, 8, 10, 12, 14, 16, 18, 20]:\n"
   ]
  },
  {
   "cell_type": "code",
   "execution_count": 9,
   "id": "71a8771b-52fd-4359-abe6-f64dde2b8c85",
   "metadata": {},
   "outputs": [
    {
     "name": "stdout",
     "output_type": "stream",
     "text": [
      "2\n",
      "4\n",
      "6\n",
      "8\n",
      "10\n"
     ]
    }
   ],
   "source": [
    "my_list = [2,4,6,8,10,12,14,16,18,20]\n",
    "my_iterator = iter(my_list)\n",
    "\n",
    "for _ in range(5):\n",
    "    element = next(my_iterator)\n",
    "    print(element)"
   ]
  },
  {
   "cell_type": "markdown",
   "id": "e136fe1f-8c9a-490b-89e9-9c86a0507158",
   "metadata": {},
   "source": [
    "* In this example, iter(my_list) initializes the iterator object my_iterator for the given list. The for loop runs five times, calling next(my_iterator) to retrieve the next element and printing it."
   ]
  },
  {
   "cell_type": "markdown",
   "id": "3194567d-71be-4b02-85ad-6d92a16a71ed",
   "metadata": {},
   "source": []
  },
  {
   "cell_type": "markdown",
   "id": "4572a50d-6f8c-4bcc-a764-73bb8c716eeb",
   "metadata": {},
   "source": [
    "##### Q4. What is a generator function in python? Why yield keyword is used? Give an example of a generator function."
   ]
  },
  {
   "cell_type": "markdown",
   "id": "ac451184-0cb4-4b93-81dc-a63f2f38056e",
   "metadata": {},
   "source": [
    "Ans:04\n",
    "\n",
    "In Python, a generator function is a special type of function that generates an iterator when called. Unlike regular functions that use the return statement to return a value and end the function's execution, generator functions use the yield keyword to produce a series of values. Each time the yield statement is encountered, the generator function's state is saved, and the yielded value is returned. The next time the generator's __next__() method is called, execution resumes from where it left off.\n",
    "\n",
    "The yield keyword is used in generator functions to define the points at which the function should pause and yield a value to the caller. It allows the generator to produce a series of values over time without needing to store them all in memory at once. This makes generator functions memory-efficient and suitable for handling large or infinite sequences of data.\n",
    "\n",
    "Here's an example of a generator function that generates a sequence of squares:"
   ]
  },
  {
   "cell_type": "code",
   "execution_count": 13,
   "id": "7c5f17d2-529d-4825-9bf7-18724fa50cb6",
   "metadata": {},
   "outputs": [
    {
     "name": "stdout",
     "output_type": "stream",
     "text": [
      "0\n",
      "1\n",
      "4\n",
      "9\n",
      "16\n"
     ]
    }
   ],
   "source": [
    "def square_generator(n):\n",
    "    for i in range(n):\n",
    "        yield i ** 2\n",
    "\n",
    "# Create a generator object\n",
    "my_generator = square_generator(5)\n",
    "\n",
    "# Iterate over the generator and print the values\n",
    "for num in my_generator:\n",
    "    print(num)\n"
   ]
  },
  {
   "cell_type": "markdown",
   "id": "f7094939-4a89-404f-9efc-93f2ab38afd5",
   "metadata": {},
   "source": [
    "In this example, the square_generator() function is defined as a generator function. It uses a for loop to iterate over the range from 0 to n and yields the square of each number using the yield keyword. When the generator object my_generator is created by calling square_generator(5), it doesn't immediately execute the function. Instead, it becomes an iterator that can be iterated over. The for loop then iterates over the generator, and each iteration resumes the execution of the generator function, yielding the next square value.\n",
    "\n",
    "By using a generator function with the yield keyword, you can create an iterator that produces values on-the-fly, making it memory-efficient and suitable for situations where generating all the values upfront would be impractical or unnecessary."
   ]
  },
  {
   "cell_type": "markdown",
   "id": "aca483e4-88d0-4baa-9a38-8fb99155ed0a",
   "metadata": {},
   "source": []
  },
  {
   "cell_type": "markdown",
   "id": "f07a9bd2-c0e4-4e47-a419-b27744a6b43c",
   "metadata": {},
   "source": [
    "##### Q5. Create a generator function for prime numbers less than 1000. Use the next() method to print the first 20 prime numbers."
   ]
  },
  {
   "cell_type": "markdown",
   "id": "b9268bf7-938e-42b8-a395-af903125046d",
   "metadata": {},
   "source": [
    "Ans:05\n",
    "\n",
    "Here's an example of a generator function that generates prime numbers less than 1000, and then uses the next() method to print the first 20 prime numbers:"
   ]
  },
  {
   "cell_type": "code",
   "execution_count": 14,
   "id": "c34ad948-0dc9-48e1-b52a-a2285d7af60a",
   "metadata": {},
   "outputs": [
    {
     "name": "stdout",
     "output_type": "stream",
     "text": [
      "2\n",
      "3\n",
      "5\n",
      "7\n",
      "11\n",
      "13\n",
      "17\n",
      "19\n",
      "23\n",
      "29\n",
      "31\n",
      "37\n",
      "41\n",
      "43\n",
      "47\n",
      "53\n",
      "59\n",
      "61\n",
      "67\n",
      "71\n"
     ]
    }
   ],
   "source": [
    "def prime_generator():\n",
    "    # Yield prime numbers less than 1000\n",
    "    for num in range(2,1000):\n",
    "        if is_prime(num):\n",
    "            yield num\n",
    "            \n",
    "def is_prime(n):\n",
    "    #check if a number is prime\n",
    "    if n<=1:\n",
    "        return False\n",
    "    for i in range(2,int(n**0.5)+1):\n",
    "        if n % i ==0:\n",
    "            return False\n",
    "    return True\n",
    "\n",
    "# Create a generator object:\n",
    "my_generator = prime_generator()\n",
    "\n",
    "#print the first 20 prime nos.:\n",
    "for _ in range(20):\n",
    "    prime_num=next(my_generator)\n",
    "    print(prime_num)\n"
   ]
  },
  {
   "cell_type": "markdown",
   "id": "87ec1c32-82ac-4fe8-9d1b-ad2395a48e76",
   "metadata": {},
   "source": [
    "In this example, the prime_generator() function is defined as a generator function. It uses a for loop to iterate over numbers from 2 to 999 (exclusive), and for each number, it checks if it's prime using the is_prime() helper function. If a number is prime, it is yielded by the generator.\n",
    "\n",
    "The is_prime() function checks if a number is prime by iterating from 2 to the square root of the number and checking for any divisors. If a divisor is found, the number is not prime.\n",
    "\n",
    "We create a generator object my_generator by calling prime_generator(), and then we use a for loop and the next() method to iterate over the generator and print the first 20 prime numbers."
   ]
  },
  {
   "cell_type": "markdown",
   "id": "5a8d6c0f-62b0-496d-a625-cfee690073f6",
   "metadata": {},
   "source": []
  }
 ],
 "metadata": {
  "kernelspec": {
   "display_name": "Python 3 (ipykernel)",
   "language": "python",
   "name": "python3"
  },
  "language_info": {
   "codemirror_mode": {
    "name": "ipython",
    "version": 3
   },
   "file_extension": ".py",
   "mimetype": "text/x-python",
   "name": "python",
   "nbconvert_exporter": "python",
   "pygments_lexer": "ipython3",
   "version": "3.10.8"
  }
 },
 "nbformat": 4,
 "nbformat_minor": 5
}
